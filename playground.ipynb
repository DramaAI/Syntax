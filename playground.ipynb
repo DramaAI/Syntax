{
 "cells": [
  {
   "cell_type": "code",
   "execution_count": 1,
   "metadata": {},
   "outputs": [],
   "source": [
    "import torch\n",
    "import pandas as pd\n",
    "import numpy as np\n",
    "import os\n",
    "from src.backend.module.nn import SyntaxBert, BertConfig\n",
    "from src.backend.module.modules import attn_config, attn_module\n",
    "from src.backend.utils import load_base_model, load_tokenizer"
   ]
  },
  {
   "cell_type": "code",
   "execution_count": 2,
   "metadata": {},
   "outputs": [
    {
     "name": "stderr",
     "output_type": "stream",
     "text": [
      "/Users/lucavivona/Documents/Programs/York/EECS/4044/Syntax/syntax/lib/python3.11/site-packages/tqdm/auto.py:21: TqdmWarning: IProgress not found. Please update jupyter and ipywidgets. See https://ipywidgets.readthedocs.io/en/stable/user_install.html\n",
      "  from .autonotebook import tqdm as notebook_tqdm\n"
     ]
    }
   ],
   "source": [
    "syntax = SyntaxBert.load_local_weights(BertConfig)"
   ]
  },
  {
   "cell_type": "code",
   "execution_count": 3,
   "metadata": {},
   "outputs": [],
   "source": [
    "\n",
    "    # Unit tests\n",
    "config = attn_config(embed_dim=[512, 512], num_heads=[2, 2], dropout=[0.0, 0.0], \n",
    "                        input_dim=256, dict_dim=3, synonym_head=\"softmax\", replace_head=\"sigmoid\")\n",
    "\n",
    "# Input must now be of shape (batch_size, num_tokens, num_features)\n",
    "# Let's assume a batch_size of 10 for this example"
   ]
  },
  {
   "cell_type": "code",
   "execution_count": 4,
   "metadata": {},
   "outputs": [
    {
     "data": {
      "text/plain": [
       "attn_config(embed_dim=[512, 512], num_heads=[2, 2], dropout=[0.0, 0.0], input_dim=256, dict_dim=3, synonym_head='softmax', replace_head='sigmoid')"
      ]
     },
     "execution_count": 4,
     "metadata": {},
     "output_type": "execute_result"
    }
   ],
   "source": [
    "config"
   ]
  },
  {
   "cell_type": "code",
   "execution_count": 5,
   "metadata": {},
   "outputs": [],
   "source": [
    "tokenizer = load_tokenizer()"
   ]
  },
  {
   "cell_type": "code",
   "execution_count": 7,
   "metadata": {},
   "outputs": [],
   "source": [
    "input = tokenizer.encode(\"Hello world this is a test.\")"
   ]
  },
  {
   "cell_type": "code",
   "execution_count": 8,
   "metadata": {},
   "outputs": [
    {
     "ename": "TypeError",
     "evalue": "SyntaxBert.forward() got an unexpected keyword argument 'input_ids'",
     "output_type": "error",
     "traceback": [
      "\u001b[0;31m---------------------------------------------------------------------------\u001b[0m",
      "\u001b[0;31mTypeError\u001b[0m                                 Traceback (most recent call last)",
      "\u001b[1;32m/Users/lucavivona/Documents/Programs/York/EECS/4044/Syntax/playground.ipynb Cell 7\u001b[0m line \u001b[0;36m1\n\u001b[0;32m----> <a href='vscode-notebook-cell:/Users/lucavivona/Documents/Programs/York/EECS/4044/Syntax/playground.ipynb#X35sZmlsZQ%3D%3D?line=0'>1</a>\u001b[0m syntax(\u001b[39m*\u001b[39;49m\u001b[39m*\u001b[39;49m\u001b[39minput\u001b[39;49m)\n",
      "File \u001b[0;32m~/Documents/Programs/York/EECS/4044/Syntax/syntax/lib/python3.11/site-packages/torch/nn/modules/module.py:1518\u001b[0m, in \u001b[0;36mModule._wrapped_call_impl\u001b[0;34m(self, *args, **kwargs)\u001b[0m\n\u001b[1;32m   1516\u001b[0m     \u001b[39mreturn\u001b[39;00m \u001b[39mself\u001b[39m\u001b[39m.\u001b[39m_compiled_call_impl(\u001b[39m*\u001b[39margs, \u001b[39m*\u001b[39m\u001b[39m*\u001b[39mkwargs)  \u001b[39m# type: ignore[misc]\u001b[39;00m\n\u001b[1;32m   1517\u001b[0m \u001b[39melse\u001b[39;00m:\n\u001b[0;32m-> 1518\u001b[0m     \u001b[39mreturn\u001b[39;00m \u001b[39mself\u001b[39;49m\u001b[39m.\u001b[39;49m_call_impl(\u001b[39m*\u001b[39;49margs, \u001b[39m*\u001b[39;49m\u001b[39m*\u001b[39;49mkwargs)\n",
      "File \u001b[0;32m~/Documents/Programs/York/EECS/4044/Syntax/syntax/lib/python3.11/site-packages/torch/nn/modules/module.py:1527\u001b[0m, in \u001b[0;36mModule._call_impl\u001b[0;34m(self, *args, **kwargs)\u001b[0m\n\u001b[1;32m   1522\u001b[0m \u001b[39m# If we don't have any hooks, we want to skip the rest of the logic in\u001b[39;00m\n\u001b[1;32m   1523\u001b[0m \u001b[39m# this function, and just call forward.\u001b[39;00m\n\u001b[1;32m   1524\u001b[0m \u001b[39mif\u001b[39;00m \u001b[39mnot\u001b[39;00m (\u001b[39mself\u001b[39m\u001b[39m.\u001b[39m_backward_hooks \u001b[39mor\u001b[39;00m \u001b[39mself\u001b[39m\u001b[39m.\u001b[39m_backward_pre_hooks \u001b[39mor\u001b[39;00m \u001b[39mself\u001b[39m\u001b[39m.\u001b[39m_forward_hooks \u001b[39mor\u001b[39;00m \u001b[39mself\u001b[39m\u001b[39m.\u001b[39m_forward_pre_hooks\n\u001b[1;32m   1525\u001b[0m         \u001b[39mor\u001b[39;00m _global_backward_pre_hooks \u001b[39mor\u001b[39;00m _global_backward_hooks\n\u001b[1;32m   1526\u001b[0m         \u001b[39mor\u001b[39;00m _global_forward_hooks \u001b[39mor\u001b[39;00m _global_forward_pre_hooks):\n\u001b[0;32m-> 1527\u001b[0m     \u001b[39mreturn\u001b[39;00m forward_call(\u001b[39m*\u001b[39;49margs, \u001b[39m*\u001b[39;49m\u001b[39m*\u001b[39;49mkwargs)\n\u001b[1;32m   1529\u001b[0m \u001b[39mtry\u001b[39;00m:\n\u001b[1;32m   1530\u001b[0m     result \u001b[39m=\u001b[39m \u001b[39mNone\u001b[39;00m\n",
      "\u001b[0;31mTypeError\u001b[0m: SyntaxBert.forward() got an unexpected keyword argument 'input_ids'"
     ]
    }
   ],
   "source": [
    "syntax(**input)"
   ]
  },
  {
   "cell_type": "code",
   "execution_count": 16,
   "metadata": {},
   "outputs": [
    {
     "name": "stdout",
     "output_type": "stream",
     "text": [
      "Replacement Probabilities Shape: torch.Size([2, 11, 1])\n",
      "Synonym Probabilities Shape: torch.Size([2, 11, 3])\n",
      "Replacement probabilities for each token in Batch 2: tensor([[0.4985],\n",
      "        [0.4998],\n",
      "        [0.5012],\n",
      "        [0.5025],\n",
      "        [0.4989],\n",
      "        [0.5005],\n",
      "        [0.5036],\n",
      "        [0.5037],\n",
      "        [0.5008],\n",
      "        [0.5041],\n",
      "        [0.5038]], grad_fn=<SelectBackward0>)\n",
      "Replacement probability Batch 1, Token 1: tensor([0.5084], grad_fn=<SelectBackward0>)\n",
      "Replacement probability Batch 1, Token 1: tensor([[0.5084],\n",
      "        [0.5150],\n",
      "        [0.5137],\n",
      "        [0.5062],\n",
      "        [0.5133],\n",
      "        [0.5078],\n",
      "        [0.5063],\n",
      "        [0.5095],\n",
      "        [0.5098],\n",
      "        [0.5151],\n",
      "        [0.5120]], grad_fn=<SelectBackward0>)\n",
      "Synonym Probability Distribution for the Batch 1, Token 2: tensor([0.3340, 0.3252, 0.3408], grad_fn=<SelectBackward0>)\n",
      "Synonym Probabilities Sum-to-1 Constraint for Token 1: 1.0\n"
     ]
    }
   ],
   "source": [
    "\n",
    "# Input must now be of shape (batch_size, num_tokens, num_features)\n",
    "# Let's assume a batch_size of 10 for this example\n",
    "batch_size = 2\n",
    "num_tokens = 11\n",
    "input_features = 256\n",
    "\n",
    "# Generating random input to simulate a batch of sequences\n",
    "input = torch.randn(batch_size, num_tokens, input_features)\n",
    "\n",
    "# Instantiate the attention module with the given configuration\n",
    "attn_mech = attn_module(config)\n",
    "\n",
    "# Forward pass through the attention mechanism\n",
    "# Note that config is no longer passed as an argument to the forward method\n",
    "replace_probs, synonym_probs = attn_mech(input)\n",
    "\n",
    "# Print out shapes and values\n",
    "print(f\"Replacement Probabilities Shape: {replace_probs.shape}\")  # Expected: (batch_size, num_tokens, 1)\n",
    "print(f\"Synonym Probabilities Shape: {synonym_probs.shape}\")      # Expected: (batch_size, num_tokens, dict_dim)\n",
    "print(f\"Replacement probabilities for each token in Batch 2: {replace_probs[1]}\")           # Expected: A vector of probabilities for each token in the batch. There are three words, so three probabilities.\n",
    "print(f\"Replacement probability Batch 1, Token 1: {replace_probs[0][0]}\")        # Expected: Value between 0 and 1\n",
    "print(f\"Replacement probability Batch 1, Token 1: {replace_probs[0]}\")        # Expected: Value between 0 and 1\n",
    "print(f\"Synonym Probability Distribution for the Batch 1, Token 2: {synonym_probs[0][1]}\") # Expected: A vector of probabilities for each word in the dictionary. There are three words, so three probabilities.\n",
    "print(f\"Synonym Probabilities Sum-to-1 Constraint for Token 1: {torch.sum(synonym_probs[0][0])}\") # Expected : Sum to 1 constraint for the softmax probabilities, for the first token\n",
    "\n"
   ]
  },
  {
   "cell_type": "code",
   "execution_count": null,
   "metadata": {},
   "outputs": [],
   "source": []
  }
 ],
 "metadata": {
  "kernelspec": {
   "display_name": "syntax",
   "language": "python",
   "name": "python3"
  },
  "language_info": {
   "codemirror_mode": {
    "name": "ipython",
    "version": 3
   },
   "file_extension": ".py",
   "mimetype": "text/x-python",
   "name": "python",
   "nbconvert_exporter": "python",
   "pygments_lexer": "ipython3",
   "version": "3.11.6"
  }
 },
 "nbformat": 4,
 "nbformat_minor": 2
}
